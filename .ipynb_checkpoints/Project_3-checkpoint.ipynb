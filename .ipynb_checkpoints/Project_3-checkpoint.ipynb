{
 "cells": [
  {
   "cell_type": "markdown",
   "metadata": {},
   "source": [
    "### Initial Imports:"
   ]
  },
  {
   "cell_type": "code",
   "execution_count": 1,
   "metadata": {},
   "outputs": [],
   "source": [
    "from pathlib import Path\n",
    "import numpy as np\n",
    "import pandas as pd\n",
    "pd.set_option(\"display.max_colwidth\", 300)\n",
    "\n",
    "import requests\n",
    "from dotenv import load_dotenv\n",
    "from datetime import datetime,timedelta\n",
    "import math\n",
    "\n",
    "import json\n",
    "from web3.auto import w3"
   ]
  },
  {
   "cell_type": "markdown",
   "metadata": {},
   "source": [
    "### Additional Installation:"
   ]
  },
  {
   "cell_type": "code",
   "execution_count": 2,
   "metadata": {},
   "outputs": [],
   "source": [
    "# !pip install yfinance\n",
    "import yfinance as yf"
   ]
  },
  {
   "cell_type": "markdown",
   "metadata": {},
   "source": [
    "### Download Stock Data from Yahoo Finance:"
   ]
  },
  {
   "cell_type": "code",
   "execution_count": 3,
   "metadata": {},
   "outputs": [
    {
     "name": "stdout",
     "output_type": "stream",
     "text": [
      "start date 2021-04-29\n",
      "end date 2021-05-02\n",
      "last business day 2021-04-29\n"
     ]
    }
   ],
   "source": [
    "# Get Recent Business Date:\n",
    "from datetime import datetime,timedelta\n",
    "from pandas.tseries.offsets import BDay\n",
    "recent_bus_day = (datetime.today()-BDay(2)).strftime(\"%Y-%m-%d\")\n",
    "\n",
    "# Auto-Update Time Interval\n",
    "start=(datetime.today()-timedelta(days=3)).strftime(\"%Y-%m-%d\")\n",
    "end=datetime.today().strftime(\"%Y-%m-%d\")\n",
    "print(f\"start date {start}\")\n",
    "print(f\"end date {end}\")\n",
    "print(f\"last business day {recent_bus_day}\")"
   ]
  },
  {
   "cell_type": "code",
   "execution_count": 4,
   "metadata": {},
   "outputs": [
    {
     "name": "stdout",
     "output_type": "stream",
     "text": [
      "[*********************100%***********************]  1 of 1 completed\n",
      "                 BRK\n",
      "Date                \n",
      "2021-04-28  410988.0\n",
      "2021-04-29  417905.0\n",
      "2021-04-30  412500.0\n"
     ]
    }
   ],
   "source": [
    "# Dowload BRK Data from Yahoo\n",
    "ticker = \"BRK-A\"\n",
    "brk_yfinance = yf.download(ticker, start, end)\n",
    "# Store in Dataframe\n",
    "BRK=brk_yfinance[\"Adj Close\"].to_frame(name=\"BRK\")\n",
    "print(BRK)"
   ]
  },
  {
   "cell_type": "code",
   "execution_count": 5,
   "metadata": {},
   "outputs": [
    {
     "name": "stdout",
     "output_type": "stream",
     "text": [
      "[*********************100%***********************]  1 of 1 completed\n",
      "                    ETH\n",
      "Date                   \n",
      "2021-04-28  2746.380127\n",
      "2021-04-29  2756.876953\n",
      "2021-04-30  2773.207031\n",
      "2021-05-01  2945.892822\n"
     ]
    }
   ],
   "source": [
    "# Dowload ETH Data from Yahoo\n",
    "ticker = \"ETH-USD\"\n",
    "eth_yfinance = yf.download(ticker, start, end)\n",
    "# Store in Dataframe\n",
    "ETH=eth_yfinance[\"Adj Close\"].to_frame(name=\"ETH\")\n",
    "print(ETH)"
   ]
  },
  {
   "cell_type": "markdown",
   "metadata": {},
   "source": [
    "### Calculate BRK to ETH Ratio for the Last Business Day:"
   ]
  },
  {
   "cell_type": "code",
   "execution_count": 6,
   "metadata": {},
   "outputs": [
    {
     "name": "stdout",
     "output_type": "stream",
     "text": [
      "        Date       BRK          ETH       ratio\n",
      "1 2021-04-29  417905.0  2756.876953  151.586381\n"
     ]
    }
   ],
   "source": [
    "# Concat DataFrames\n",
    "stock_data=pd.concat([BRK,ETH],axis='columns',join=\"inner\").reset_index()\n",
    "# Calculate and Extract Recent Ratio (the recent business day)\n",
    "stock_data[\"ratio\"]=stock_data[\"BRK\"]/stock_data[\"ETH\"]\n",
    "ratio_df = stock_data.loc[stock_data[\"Date\"]==recent_bus_day]\n",
    "print(ratio_df)"
   ]
  },
  {
   "cell_type": "code",
   "execution_count": 7,
   "metadata": {},
   "outputs": [
    {
     "name": "stdout",
     "output_type": "stream",
     "text": [
      "BRK price of last business date: 417905\n",
      "ETH price of last business date: 2756\n",
      "Required number of ETH: 152\n"
     ]
    }
   ],
   "source": [
    "# Store Recent BRK to ETH Ratio (the recent business day)\n",
    "# Always Round Up!!\n",
    "import math\n",
    "num_ETH = math.ceil(ratio_df[\"ratio\"])\n",
    "share_price = int(ratio_df['BRK'].to_numpy())\n",
    "ETH_price = int(ratio_df['ETH'].to_numpy())\n",
    "\n",
    "print(f\"BRK price of last business date: {share_price}\")\n",
    "print(f\"ETH price of last business date: {ETH_price}\")   \n",
    "print(f\"Required number of ETH: {num_ETH}\")"
   ]
  },
  {
   "cell_type": "markdown",
   "metadata": {},
   "source": [
    "### Initialize & Deploy Solidity Contract: GoalDeployer"
   ]
  },
  {
   "cell_type": "code",
   "execution_count": 8,
   "metadata": {},
   "outputs": [],
   "source": [
    "def initContract():\n",
    "    with open(Path(\"GoalDeployer.json\")) as json_file:\n",
    "        abi = json.load(json_file)\n",
    "    return w3.eth.contract(address=w3.toChecksumAddress(\"0x60604f12E6c963B0dd7B30f474f2d3FC6ce16Eb6\"), abi=abi)        "
   ]
  },
  {
   "cell_type": "code",
   "execution_count": 9,
   "metadata": {},
   "outputs": [],
   "source": [
    "GoalDeployer = initContract()"
   ]
  },
  {
   "cell_type": "markdown",
   "metadata": {},
   "source": [
    "### Sending Updated Data to Solidity Contract: GoalDeployer"
   ]
  },
  {
   "cell_type": "code",
   "execution_count": 10,
   "metadata": {},
   "outputs": [],
   "source": [
    "def update_goal(date, share_price, ETH_price, ratio):\n",
    "    tx_hash = GoalDeployer.functions.Update(date, share_price, ETH_price, ratio).transact(\n",
    "        {\"from\": w3.eth.accounts[0]}\n",
    "    )\n",
    "    receipt = w3.eth.waitForTransactionReceipt(tx_hash)\n",
    "    print(f\"Event log is updated for {date}\")\n",
    "    return receipt"
   ]
  },
  {
   "cell_type": "code",
   "execution_count": 23,
   "metadata": {},
   "outputs": [
    {
     "name": "stdout",
     "output_type": "stream",
     "text": [
      "Event log is updated for 2021-04-29\n"
     ]
    },
    {
     "data": {
      "text/plain": [
       "AttributeDict({'transactionHash': HexBytes('0x0baf1a976adb2de2f77ee14821a921598d5e4172e222a85ce0176ff3e3be5f15'),\n",
       " 'transactionIndex': 0,\n",
       " 'blockHash': HexBytes('0x22709eaef58c7d4e2357f22a0479cbfd7ebcb55eefd4585d0a1fce6dab9ab94a'),\n",
       " 'blockNumber': 523,\n",
       " 'from': '0xA850442918Cc83e9Db3654DC353717a802DF2b85',\n",
       " 'to': '0x60604f12E6c963B0dd7B30f474f2d3FC6ce16Eb6',\n",
       " 'gasUsed': 35841,\n",
       " 'cumulativeGasUsed': 35841,\n",
       " 'contractAddress': None,\n",
       " 'logs': [AttributeDict({'logIndex': 0,\n",
       "   'transactionIndex': 0,\n",
       "   'transactionHash': HexBytes('0x0baf1a976adb2de2f77ee14821a921598d5e4172e222a85ce0176ff3e3be5f15'),\n",
       "   'blockHash': HexBytes('0x22709eaef58c7d4e2357f22a0479cbfd7ebcb55eefd4585d0a1fce6dab9ab94a'),\n",
       "   'blockNumber': 523,\n",
       "   'address': '0x60604f12E6c963B0dd7B30f474f2d3FC6ce16Eb6',\n",
       "   'data': '0x000000000000000000000000000000000000000000000000000000000000008000000000000000000000000000000000000000000000000000000000000660710000000000000000000000000000000000000000000000000000000000000ac40000000000000000000000000000000000000000000000000000000000000098000000000000000000000000000000000000000000000000000000000000000a323032312d30342d323900000000000000000000000000000000000000000000',\n",
       "   'topics': [HexBytes('0xc85bda2b06fad190ee52fa59cf5ca76af83ed14ff1a1ccd8b404541ca0b91885')],\n",
       "   'type': 'mined'})],\n",
       " 'status': 1,\n",
       " 'logsBloom': HexBytes('0x00000000000000000000000000000000000000000000000000000000004000000000000004000000000000000000000000000000001000000000000000000000000000000000000000000000000400000000000000000000004000000000000000000000000000000000000000000000000000000000000000000000000000000000000000000000000000000000000000000000000000000000000000000000000000000000000000000000000000000000000000000000000000000004000000000000000000000000000000000000000000000000000000000000000000000000000000000000000000000000000000000000000000000000000000000000')})"
      ]
     },
     "execution_count": 23,
     "metadata": {},
     "output_type": "execute_result"
    }
   ],
   "source": [
    "update_goal(recent_bus_day, share_price, ETH_price, num_ETH)"
   ]
  },
  {
   "cell_type": "code",
   "execution_count": 12,
   "metadata": {},
   "outputs": [],
   "source": [
    "def get_goal(date):\n",
    "    price_filter = GoalDeployer.events.goal.createFilter(\n",
    "        fromBlock=\"0x0\", argument_filters={\"date\": date}\n",
    "    )\n",
    "    return price_filter.get_all_entries()"
   ]
  },
  {
   "cell_type": "code",
   "execution_count": 13,
   "metadata": {},
   "outputs": [],
   "source": [
    "# get_goal(\"2021-04-29\")"
   ]
  },
  {
   "cell_type": "markdown",
   "metadata": {},
   "source": [
    "### API to Broker"
   ]
  },
  {
   "cell_type": "markdown",
   "metadata": {},
   "source": [
    "1. Firstly check the Crowd Sale Status,\n",
    "2. If the Crowd Sale is **Finalized**, then check the `amount` of **weiRasied**.\n",
    "3. Next, use the proceeds from the Crowd Sale to place trade with the broker."
   ]
  },
  {
   "cell_type": "code",
   "execution_count": 14,
   "metadata": {},
   "outputs": [],
   "source": [
    "import alpaca_trade_api as tradeapi\n",
    "import time"
   ]
  },
  {
   "cell_type": "markdown",
   "metadata": {},
   "source": [
    "#### Step1: Initialize Solidity Contract: BHCoinSale & Get Updated Sale Status"
   ]
  },
  {
   "cell_type": "code",
   "execution_count": 15,
   "metadata": {},
   "outputs": [],
   "source": [
    "def initContract():\n",
    "    with open(Path(\"BHCoinSale.json\")) as json_file:\n",
    "        abi_2 = json.load(json_file)\n",
    "    return w3.eth.contract(address=\"0x3CEdB9164Ed7C4E4EbC187517F5a97430395c275\", abi=abi_2) "
   ]
  },
  {
   "cell_type": "code",
   "execution_count": 16,
   "metadata": {},
   "outputs": [],
   "source": [
    "BHCoinSale = initContract()"
   ]
  },
  {
   "cell_type": "code",
   "execution_count": 17,
   "metadata": {},
   "outputs": [
    {
     "data": {
      "text/plain": [
       "True"
      ]
     },
     "execution_count": 17,
     "metadata": {},
     "output_type": "execute_result"
    }
   ],
   "source": [
    "get_finalized_status = BHCoinSale.functions.finalized().call()\n",
    "get_finalized_status"
   ]
  },
  {
   "cell_type": "code",
   "execution_count": 18,
   "metadata": {},
   "outputs": [
    {
     "data": {
      "text/plain": [
       "0"
      ]
     },
     "execution_count": 18,
     "metadata": {},
     "output_type": "execute_result"
    }
   ],
   "source": [
    "weiRasied_status = BHCoinSale.functions.weiRaised().call()\n",
    "weiRasied_status"
   ]
  },
  {
   "cell_type": "markdown",
   "metadata": {},
   "source": [
    "#### Step2: Connet to Alpaca and Place the Trade"
   ]
  },
  {
   "cell_type": "code",
   "execution_count": 19,
   "metadata": {},
   "outputs": [],
   "source": [
    "ALPACA_API_KEY = \"PK9WWTB75USNXZON4AM9\"\n",
    "ALPACA_SECRET_KEY = \"cbfCjfMaaedqloTaBnvRuVunYQ6oj2d3WtKPfvIT\"\n",
    " \n",
    "#API endpoint URL\n",
    "url = \"https://paper-api.alpaca.markets\"\n",
    "api = tradeapi.REST(ALPACA_API_KEY, ALPACA_SECRET_KEY, url, api_version='v2')"
   ]
  },
  {
   "cell_type": "code",
   "execution_count": 20,
   "metadata": {},
   "outputs": [
    {
     "name": "stdout",
     "output_type": "stream",
     "text": [
      "DISABLE_PENDING\n"
     ]
    },
    {
     "ename": "APIError",
     "evalue": "account is not authorized to trade",
     "output_type": "error",
     "traceback": [
      "\u001b[1;31m---------------------------------------------------------------------------\u001b[0m",
      "\u001b[1;31mHTTPError\u001b[0m                                 Traceback (most recent call last)",
      "\u001b[1;32m~\\anaconda3\\envs\\monenv\\lib\\site-packages\\alpaca_trade_api\\rest.py\u001b[0m in \u001b[0;36m_one_request\u001b[1;34m(self, method, url, opts, retry)\u001b[0m\n\u001b[0;32m    145\u001b[0m         \u001b[1;32mtry\u001b[0m\u001b[1;33m:\u001b[0m\u001b[1;33m\u001b[0m\u001b[1;33m\u001b[0m\u001b[0m\n\u001b[1;32m--> 146\u001b[1;33m             \u001b[0mresp\u001b[0m\u001b[1;33m.\u001b[0m\u001b[0mraise_for_status\u001b[0m\u001b[1;33m(\u001b[0m\u001b[1;33m)\u001b[0m\u001b[1;33m\u001b[0m\u001b[1;33m\u001b[0m\u001b[0m\n\u001b[0m\u001b[0;32m    147\u001b[0m         \u001b[1;32mexcept\u001b[0m \u001b[0mHTTPError\u001b[0m \u001b[1;32mas\u001b[0m \u001b[0mhttp_error\u001b[0m\u001b[1;33m:\u001b[0m\u001b[1;33m\u001b[0m\u001b[1;33m\u001b[0m\u001b[0m\n",
      "\u001b[1;32m~\\anaconda3\\envs\\monenv\\lib\\site-packages\\requests\\models.py\u001b[0m in \u001b[0;36mraise_for_status\u001b[1;34m(self)\u001b[0m\n\u001b[0;32m    940\u001b[0m         \u001b[1;32mif\u001b[0m \u001b[0mhttp_error_msg\u001b[0m\u001b[1;33m:\u001b[0m\u001b[1;33m\u001b[0m\u001b[1;33m\u001b[0m\u001b[0m\n\u001b[1;32m--> 941\u001b[1;33m             \u001b[1;32mraise\u001b[0m \u001b[0mHTTPError\u001b[0m\u001b[1;33m(\u001b[0m\u001b[0mhttp_error_msg\u001b[0m\u001b[1;33m,\u001b[0m \u001b[0mresponse\u001b[0m\u001b[1;33m=\u001b[0m\u001b[0mself\u001b[0m\u001b[1;33m)\u001b[0m\u001b[1;33m\u001b[0m\u001b[1;33m\u001b[0m\u001b[0m\n\u001b[0m\u001b[0;32m    942\u001b[0m \u001b[1;33m\u001b[0m\u001b[0m\n",
      "\u001b[1;31mHTTPError\u001b[0m: 403 Client Error: Forbidden for url: https://paper-api.alpaca.markets/v2/orders",
      "\nDuring handling of the above exception, another exception occurred:\n",
      "\u001b[1;31mAPIError\u001b[0m                                  Traceback (most recent call last)",
      "\u001b[1;32m<ipython-input-20-468703b9ea7d>\u001b[0m in \u001b[0;36m<module>\u001b[1;34m\u001b[0m\n\u001b[0;32m     13\u001b[0m                              \u001b[0mtype\u001b[0m\u001b[1;33m=\u001b[0m\u001b[1;34m\"limit\"\u001b[0m\u001b[1;33m,\u001b[0m\u001b[1;33m\u001b[0m\u001b[1;33m\u001b[0m\u001b[0m\n\u001b[0;32m     14\u001b[0m                              \u001b[0mlimit_price\u001b[0m\u001b[1;33m=\u001b[0m\u001b[1;34m\"417905.00\"\u001b[0m\u001b[1;33m,\u001b[0m  \u001b[1;31m## Amend price to limit price\u001b[0m\u001b[1;33m\u001b[0m\u001b[1;33m\u001b[0m\u001b[0m\n\u001b[1;32m---> 15\u001b[1;33m                              time_in_force=\"day\")\n\u001b[0m\u001b[0;32m     16\u001b[0m \u001b[1;33m\u001b[0m\u001b[0m\n\u001b[0;32m     17\u001b[0m \u001b[1;33m\u001b[0m\u001b[0m\n",
      "\u001b[1;32m~\\anaconda3\\envs\\monenv\\lib\\site-packages\\alpaca_trade_api\\rest.py\u001b[0m in \u001b[0;36msubmit_order\u001b[1;34m(self, symbol, qty, side, type, time_in_force, limit_price, stop_price, client_order_id, extended_hours, order_class, take_profit, stop_loss, trail_price, trail_percent)\u001b[0m\n\u001b[0;32m    320\u001b[0m         \u001b[1;32mif\u001b[0m \u001b[0mtrail_percent\u001b[0m \u001b[1;32mis\u001b[0m \u001b[1;32mnot\u001b[0m \u001b[1;32mNone\u001b[0m\u001b[1;33m:\u001b[0m\u001b[1;33m\u001b[0m\u001b[1;33m\u001b[0m\u001b[0m\n\u001b[0;32m    321\u001b[0m             \u001b[0mparams\u001b[0m\u001b[1;33m[\u001b[0m\u001b[1;34m'trail_percent'\u001b[0m\u001b[1;33m]\u001b[0m \u001b[1;33m=\u001b[0m \u001b[0mtrail_percent\u001b[0m\u001b[1;33m\u001b[0m\u001b[1;33m\u001b[0m\u001b[0m\n\u001b[1;32m--> 322\u001b[1;33m         \u001b[0mresp\u001b[0m \u001b[1;33m=\u001b[0m \u001b[0mself\u001b[0m\u001b[1;33m.\u001b[0m\u001b[0mpost\u001b[0m\u001b[1;33m(\u001b[0m\u001b[1;34m'/orders'\u001b[0m\u001b[1;33m,\u001b[0m \u001b[0mparams\u001b[0m\u001b[1;33m)\u001b[0m\u001b[1;33m\u001b[0m\u001b[1;33m\u001b[0m\u001b[0m\n\u001b[0m\u001b[0;32m    323\u001b[0m         \u001b[1;32mreturn\u001b[0m \u001b[0mself\u001b[0m\u001b[1;33m.\u001b[0m\u001b[0mresponse_wrapper\u001b[0m\u001b[1;33m(\u001b[0m\u001b[0mresp\u001b[0m\u001b[1;33m,\u001b[0m \u001b[0mOrder\u001b[0m\u001b[1;33m)\u001b[0m\u001b[1;33m\u001b[0m\u001b[1;33m\u001b[0m\u001b[0m\n\u001b[0;32m    324\u001b[0m \u001b[1;33m\u001b[0m\u001b[0m\n",
      "\u001b[1;32m~\\anaconda3\\envs\\monenv\\lib\\site-packages\\alpaca_trade_api\\rest.py\u001b[0m in \u001b[0;36mpost\u001b[1;34m(self, path, data)\u001b[0m\n\u001b[0;32m    163\u001b[0m \u001b[1;33m\u001b[0m\u001b[0m\n\u001b[0;32m    164\u001b[0m     \u001b[1;32mdef\u001b[0m \u001b[0mpost\u001b[0m\u001b[1;33m(\u001b[0m\u001b[0mself\u001b[0m\u001b[1;33m,\u001b[0m \u001b[0mpath\u001b[0m\u001b[1;33m,\u001b[0m \u001b[0mdata\u001b[0m\u001b[1;33m=\u001b[0m\u001b[1;32mNone\u001b[0m\u001b[1;33m)\u001b[0m\u001b[1;33m:\u001b[0m\u001b[1;33m\u001b[0m\u001b[1;33m\u001b[0m\u001b[0m\n\u001b[1;32m--> 165\u001b[1;33m         \u001b[1;32mreturn\u001b[0m \u001b[0mself\u001b[0m\u001b[1;33m.\u001b[0m\u001b[0m_request\u001b[0m\u001b[1;33m(\u001b[0m\u001b[1;34m'POST'\u001b[0m\u001b[1;33m,\u001b[0m \u001b[0mpath\u001b[0m\u001b[1;33m,\u001b[0m \u001b[0mdata\u001b[0m\u001b[1;33m)\u001b[0m\u001b[1;33m\u001b[0m\u001b[1;33m\u001b[0m\u001b[0m\n\u001b[0m\u001b[0;32m    166\u001b[0m \u001b[1;33m\u001b[0m\u001b[0m\n\u001b[0;32m    167\u001b[0m     \u001b[1;32mdef\u001b[0m \u001b[0mput\u001b[0m\u001b[1;33m(\u001b[0m\u001b[0mself\u001b[0m\u001b[1;33m,\u001b[0m \u001b[0mpath\u001b[0m\u001b[1;33m,\u001b[0m \u001b[0mdata\u001b[0m\u001b[1;33m=\u001b[0m\u001b[1;32mNone\u001b[0m\u001b[1;33m)\u001b[0m\u001b[1;33m:\u001b[0m\u001b[1;33m\u001b[0m\u001b[1;33m\u001b[0m\u001b[0m\n",
      "\u001b[1;32m~\\anaconda3\\envs\\monenv\\lib\\site-packages\\alpaca_trade_api\\rest.py\u001b[0m in \u001b[0;36m_request\u001b[1;34m(self, method, path, data, base_url, api_version)\u001b[0m\n\u001b[0;32m    123\u001b[0m         \u001b[1;32mwhile\u001b[0m \u001b[0mretry\u001b[0m \u001b[1;33m>=\u001b[0m \u001b[1;36m0\u001b[0m\u001b[1;33m:\u001b[0m\u001b[1;33m\u001b[0m\u001b[1;33m\u001b[0m\u001b[0m\n\u001b[0;32m    124\u001b[0m             \u001b[1;32mtry\u001b[0m\u001b[1;33m:\u001b[0m\u001b[1;33m\u001b[0m\u001b[1;33m\u001b[0m\u001b[0m\n\u001b[1;32m--> 125\u001b[1;33m                 \u001b[1;32mreturn\u001b[0m \u001b[0mself\u001b[0m\u001b[1;33m.\u001b[0m\u001b[0m_one_request\u001b[0m\u001b[1;33m(\u001b[0m\u001b[0mmethod\u001b[0m\u001b[1;33m,\u001b[0m \u001b[0murl\u001b[0m\u001b[1;33m,\u001b[0m \u001b[0mopts\u001b[0m\u001b[1;33m,\u001b[0m \u001b[0mretry\u001b[0m\u001b[1;33m)\u001b[0m\u001b[1;33m\u001b[0m\u001b[1;33m\u001b[0m\u001b[0m\n\u001b[0m\u001b[0;32m    126\u001b[0m             \u001b[1;32mexcept\u001b[0m \u001b[0mRetryException\u001b[0m\u001b[1;33m:\u001b[0m\u001b[1;33m\u001b[0m\u001b[1;33m\u001b[0m\u001b[0m\n\u001b[0;32m    127\u001b[0m                 \u001b[0mretry_wait\u001b[0m \u001b[1;33m=\u001b[0m \u001b[0mself\u001b[0m\u001b[1;33m.\u001b[0m\u001b[0m_retry_wait\u001b[0m\u001b[1;33m\u001b[0m\u001b[1;33m\u001b[0m\u001b[0m\n",
      "\u001b[1;32m~\\anaconda3\\envs\\monenv\\lib\\site-packages\\alpaca_trade_api\\rest.py\u001b[0m in \u001b[0;36m_one_request\u001b[1;34m(self, method, url, opts, retry)\u001b[0m\n\u001b[0;32m    152\u001b[0m                 \u001b[0merror\u001b[0m \u001b[1;33m=\u001b[0m \u001b[0mresp\u001b[0m\u001b[1;33m.\u001b[0m\u001b[0mjson\u001b[0m\u001b[1;33m(\u001b[0m\u001b[1;33m)\u001b[0m\u001b[1;33m\u001b[0m\u001b[1;33m\u001b[0m\u001b[0m\n\u001b[0;32m    153\u001b[0m                 \u001b[1;32mif\u001b[0m \u001b[1;34m'code'\u001b[0m \u001b[1;32min\u001b[0m \u001b[0merror\u001b[0m\u001b[1;33m:\u001b[0m\u001b[1;33m\u001b[0m\u001b[1;33m\u001b[0m\u001b[0m\n\u001b[1;32m--> 154\u001b[1;33m                     \u001b[1;32mraise\u001b[0m \u001b[0mAPIError\u001b[0m\u001b[1;33m(\u001b[0m\u001b[0merror\u001b[0m\u001b[1;33m,\u001b[0m \u001b[0mhttp_error\u001b[0m\u001b[1;33m)\u001b[0m\u001b[1;33m\u001b[0m\u001b[1;33m\u001b[0m\u001b[0m\n\u001b[0m\u001b[0;32m    155\u001b[0m             \u001b[1;32melse\u001b[0m\u001b[1;33m:\u001b[0m\u001b[1;33m\u001b[0m\u001b[1;33m\u001b[0m\u001b[0m\n\u001b[0;32m    156\u001b[0m                 \u001b[1;32mraise\u001b[0m\u001b[1;33m\u001b[0m\u001b[1;33m\u001b[0m\u001b[0m\n",
      "\u001b[1;31mAPIError\u001b[0m: account is not authorized to trade"
     ]
    }
   ],
   "source": [
    "# Check the Status of the Crowdsale:\n",
    "if get_finalized_status == True: \n",
    " \n",
    "    #API endpoint URL\n",
    "    #Init our account var\n",
    "    account = api.get_account()\n",
    "\n",
    "    #Should print 'ACTIVE'\n",
    "    print(account.status)\n",
    "    order = api.submit_order(symbol=\"BRK.A\",\n",
    "                             qty=\"1\",\n",
    "                             side=\"buy\",\n",
    "                             type=\"limit\",\n",
    "                             limit_price=\"417905.00\",  ## Amend price to limit price \n",
    "                             time_in_force=\"day\")\n",
    "\n",
    "    \n",
    "else: \n",
    "    print(\"the Crowdsale is NOT completed\")"
   ]
  },
  {
   "cell_type": "markdown",
   "metadata": {},
   "source": [
    "### Testing: At the End of the Lock Period, Push NEW Price Data for User to Redeem:"
   ]
  },
  {
   "cell_type": "code",
   "execution_count": 21,
   "metadata": {},
   "outputs": [
    {
     "name": "stdout",
     "output_type": "stream",
     "text": [
      "250\n"
     ]
    }
   ],
   "source": [
    "# Assumed price data for testing purpose\n",
    "end_BRK_price = 500000\n",
    "end_ETH_price = 2000\n",
    "end_num_ETH = math.ceil(end_BRK_price/end_ETH_price)\n",
    "print(end_num_ETH)"
   ]
  },
  {
   "cell_type": "code",
   "execution_count": 22,
   "metadata": {},
   "outputs": [
    {
     "name": "stdout",
     "output_type": "stream",
     "text": [
      "Event log is updated for 2022/5/1\n"
     ]
    },
    {
     "data": {
      "text/plain": [
       "AttributeDict({'transactionHash': HexBytes('0x6fa966176bc87fba855da59d5998b013b2e10cd86b3a7c258e04188f131a94c7'),\n",
       " 'transactionIndex': 0,\n",
       " 'blockHash': HexBytes('0xc8e46499356208e19c133d7cc878571314e98034cfd2a31e152d78bbd25955a3'),\n",
       " 'blockNumber': 522,\n",
       " 'from': '0xA850442918Cc83e9Db3654DC353717a802DF2b85',\n",
       " 'to': '0x60604f12E6c963B0dd7B30f474f2d3FC6ce16Eb6',\n",
       " 'gasUsed': 35817,\n",
       " 'cumulativeGasUsed': 35817,\n",
       " 'contractAddress': None,\n",
       " 'logs': [AttributeDict({'logIndex': 0,\n",
       "   'transactionIndex': 0,\n",
       "   'transactionHash': HexBytes('0x6fa966176bc87fba855da59d5998b013b2e10cd86b3a7c258e04188f131a94c7'),\n",
       "   'blockHash': HexBytes('0xc8e46499356208e19c133d7cc878571314e98034cfd2a31e152d78bbd25955a3'),\n",
       "   'blockNumber': 522,\n",
       "   'address': '0x60604f12E6c963B0dd7B30f474f2d3FC6ce16Eb6',\n",
       "   'data': '0x0000000000000000000000000000000000000000000000000000000000000080000000000000000000000000000000000000000000000000000000000007a12000000000000000000000000000000000000000000000000000000000000007d000000000000000000000000000000000000000000000000000000000000000fa0000000000000000000000000000000000000000000000000000000000000008323032322f352f31000000000000000000000000000000000000000000000000',\n",
       "   'topics': [HexBytes('0xc85bda2b06fad190ee52fa59cf5ca76af83ed14ff1a1ccd8b404541ca0b91885')],\n",
       "   'type': 'mined'})],\n",
       " 'status': 1,\n",
       " 'logsBloom': HexBytes('0x00000000000000000000000000000000000000000000000000000000004000000000000004000000000000000000000000000000001000000000000000000000000000000000000000000000000400000000000000000000004000000000000000000000000000000000000000000000000000000000000000000000000000000000000000000000000000000000000000000000000000000000000000000000000000000000000000000000000000000000000000000000000000000004000000000000000000000000000000000000000000000000000000000000000000000000000000000000000000000000000000000000000000000000000000000000')})"
      ]
     },
     "execution_count": 22,
     "metadata": {},
     "output_type": "execute_result"
    }
   ],
   "source": [
    "update_goal('2022/5/1', end_BRK_price, end_ETH_price, end_num_ETH)"
   ]
  },
  {
   "cell_type": "code",
   "execution_count": null,
   "metadata": {},
   "outputs": [],
   "source": []
  }
 ],
 "metadata": {
  "kernelspec": {
   "display_name": "Python [conda env:monenv] *",
   "language": "python",
   "name": "conda-env-monenv-py"
  },
  "language_info": {
   "codemirror_mode": {
    "name": "ipython",
    "version": 3
   },
   "file_extension": ".py",
   "mimetype": "text/x-python",
   "name": "python",
   "nbconvert_exporter": "python",
   "pygments_lexer": "ipython3",
   "version": "3.7.9"
  }
 },
 "nbformat": 4,
 "nbformat_minor": 4
}

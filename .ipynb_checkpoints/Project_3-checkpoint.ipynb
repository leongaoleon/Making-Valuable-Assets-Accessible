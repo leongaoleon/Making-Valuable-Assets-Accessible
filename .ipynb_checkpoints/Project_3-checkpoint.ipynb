{
 "cells": [
  {
   "cell_type": "markdown",
   "metadata": {},
   "source": [
    "### Initial Imports:"
   ]
  },
  {
   "cell_type": "code",
   "execution_count": 8,
   "metadata": {},
   "outputs": [],
   "source": [
    "from pathlib import Path\n",
    "import numpy as np\n",
    "import pandas as pd\n",
    "pd.set_option(\"display.max_colwidth\", 300)\n",
    "\n",
    "import requests\n",
    "from dotenv import load_dotenv\n",
    "load_dotenv()\n",
    "\n",
    "from datetime import datetime,timedelta\n",
    "import math\n",
    "\n",
    "import json\n",
    "from web3.auto import w3"
   ]
  },
  {
   "cell_type": "markdown",
   "metadata": {},
   "source": [
    "### Additional Installation:"
   ]
  },
  {
   "cell_type": "code",
   "execution_count": 2,
   "metadata": {},
   "outputs": [],
   "source": [
    "# !pip install yfinance\n",
    "import yfinance as yf"
   ]
  },
  {
   "cell_type": "markdown",
   "metadata": {},
   "source": [
    "### Download Stock Data from Yahoo Finance:"
   ]
  },
  {
   "cell_type": "code",
   "execution_count": 3,
   "metadata": {},
   "outputs": [
    {
     "name": "stdout",
     "output_type": "stream",
     "text": [
      "start date 2021-04-25\n",
      "end date 2021-04-28\n",
      "last business day 2021-04-26\n"
     ]
    }
   ],
   "source": [
    "# Get Recent Business Date:\n",
    "from datetime import datetime,timedelta\n",
    "from pandas.tseries.offsets import BDay\n",
    "recent_bus_day = (datetime.today()-BDay(2)).strftime(\"%Y-%m-%d\")\n",
    "\n",
    "# Auto-Update Time Interval\n",
    "start=(datetime.today()-timedelta(days=3)).strftime(\"%Y-%m-%d\")\n",
    "end=datetime.today().strftime(\"%Y-%m-%d\")\n",
    "print(f\"start date {start}\")\n",
    "print(f\"end date {end}\")\n",
    "print(f\"last business day {recent_bus_day}\")"
   ]
  },
  {
   "cell_type": "code",
   "execution_count": 4,
   "metadata": {},
   "outputs": [
    {
     "name": "stdout",
     "output_type": "stream",
     "text": [
      "[*********************100%***********************]  1 of 1 completed\n",
      "                 BRK\n",
      "Date                \n",
      "2021-04-26  407527.0\n",
      "2021-04-27  411400.0\n"
     ]
    }
   ],
   "source": [
    "# Dowload BRK Data from Yahoo\n",
    "ticker = \"BRK-A\"\n",
    "brk_yfinance = yf.download(ticker, start, end)\n",
    "# Store in Dataframe\n",
    "BRK=brk_yfinance[\"Adj Close\"].to_frame(name=\"BRK\")\n",
    "print(BRK)"
   ]
  },
  {
   "cell_type": "code",
   "execution_count": 5,
   "metadata": {},
   "outputs": [
    {
     "name": "stdout",
     "output_type": "stream",
     "text": [
      "[*********************100%***********************]  1 of 1 completed\n",
      "                    ETH\n",
      "Date                   \n",
      "2021-04-24  2211.625732\n",
      "2021-04-25  2316.059570\n",
      "2021-04-26  2534.481689\n",
      "2021-04-27  2662.865234\n"
     ]
    }
   ],
   "source": [
    "# Dowload ETH Data from Yahoo\n",
    "ticker = \"ETH-USD\"\n",
    "eth_yfinance = yf.download(ticker, start, end)\n",
    "# Store in Dataframe\n",
    "ETH=eth_yfinance[\"Adj Close\"].to_frame(name=\"ETH\")\n",
    "print(ETH)"
   ]
  },
  {
   "cell_type": "markdown",
   "metadata": {},
   "source": [
    "### Calculate BRK to ETH Ratio for the Last Business Day:"
   ]
  },
  {
   "cell_type": "code",
   "execution_count": 18,
   "metadata": {},
   "outputs": [
    {
     "name": "stdout",
     "output_type": "stream",
     "text": [
      "        Date       BRK          ETH       ratio\n",
      "0 2021-04-26  407527.0  2534.481689  160.793034\n"
     ]
    }
   ],
   "source": [
    "# Concat DataFrames\n",
    "stock_data=pd.concat([BRK,ETH],axis='columns',join=\"inner\").reset_index()\n",
    "# Calculate and Extract Recent Ratio (the recent business day)\n",
    "stock_data[\"ratio\"]=stock_data[\"BRK\"]/stock_data[\"ETH\"]\n",
    "ratio_df = stock_data.loc[stock_data[\"Date\"]==recent_bus_day]\n",
    "print(ratio_df)"
   ]
  },
  {
   "cell_type": "code",
   "execution_count": 7,
   "metadata": {},
   "outputs": [
    {
     "name": "stdout",
     "output_type": "stream",
     "text": [
      "BRK price of last business date: 407527\n",
      "ETH price of last business date: 2534\n",
      "Required number of ETH: 161\n"
     ]
    }
   ],
   "source": [
    "# Store Recent BRK to ETH Ratio (the recent business day)\n",
    "# Always Round Up!!\n",
    "import math\n",
    "num_ETH = math.ceil(ratio_df[\"ratio\"])\n",
    "share_price = int(ratio_df['BRK'].to_numpy())\n",
    "ETH_price = int(ratio_df['ETH'].to_numpy())\n",
    "\n",
    "print(f\"BRK price of last business date: {share_price}\")\n",
    "print(f\"ETH price of last business date: {ETH_price}\")   \n",
    "print(f\"Required number of ETH: {num_ETH}\")"
   ]
  },
  {
   "cell_type": "markdown",
   "metadata": {},
   "source": [
    "### Initialize & Deploy Solidity Contract: GoalDeployer"
   ]
  },
  {
   "cell_type": "code",
   "execution_count": 41,
   "metadata": {},
   "outputs": [],
   "source": [
    "def initContract():\n",
    "    with open(Path(\"GoalDeployer.json\")) as json_file:\n",
    "        abi = json.load(json_file)\n",
    "    return w3.eth.contract(address=\"0x7d7FA8911824b2BDeD6E6C7693843Ffa9f938d23\", abi=abi)        "
   ]
  },
  {
   "cell_type": "code",
   "execution_count": 42,
   "metadata": {},
   "outputs": [],
   "source": [
    "GoalDeployer = initContract()"
   ]
  },
  {
   "cell_type": "markdown",
   "metadata": {},
   "source": [
    "### Sending Updated Data to Solidity Contract: GoalDeployer"
   ]
  },
  {
   "cell_type": "code",
   "execution_count": 43,
   "metadata": {},
   "outputs": [],
   "source": [
    "def update_goal(date, share_price, ETH_price, ratio):\n",
    "    tx_hash = GoalDeployer.functions.Update(date, share_price, ETH_price, ratio).transact(\n",
    "        {\"from\": w3.eth.accounts[0]}\n",
    "    )\n",
    "    receipt = w3.eth.waitForTransactionReceipt(tx_hash)\n",
    "    print(f\"Event log is updated for {date}\")\n",
    "    return receipt"
   ]
  },
  {
   "cell_type": "code",
   "execution_count": 44,
   "metadata": {},
   "outputs": [
    {
     "name": "stdout",
     "output_type": "stream",
     "text": [
      "Event log is updated for 2021-04-26\n"
     ]
    },
    {
     "data": {
      "text/plain": [
       "AttributeDict({'transactionHash': HexBytes('0xf90403f2782b1b3a95c4dbb9ad5fbf2b3f56afbdb7920ff974e1b8d43ac51856'),\n",
       " 'transactionIndex': 0,\n",
       " 'blockHash': HexBytes('0x19d3d2383fae0bd9ba323b31ff0c5f3bb740e86833b5b6b123b362e50274398d'),\n",
       " 'blockNumber': 449,\n",
       " 'from': '0xA850442918Cc83e9Db3654DC353717a802DF2b85',\n",
       " 'to': '0x7d7FA8911824b2BDeD6E6C7693843Ffa9f938d23',\n",
       " 'gasUsed': 108441,\n",
       " 'cumulativeGasUsed': 108441,\n",
       " 'contractAddress': None,\n",
       " 'logs': [AttributeDict({'logIndex': 0,\n",
       "   'transactionIndex': 0,\n",
       "   'transactionHash': HexBytes('0xf90403f2782b1b3a95c4dbb9ad5fbf2b3f56afbdb7920ff974e1b8d43ac51856'),\n",
       "   'blockHash': HexBytes('0x19d3d2383fae0bd9ba323b31ff0c5f3bb740e86833b5b6b123b362e50274398d'),\n",
       "   'blockNumber': 449,\n",
       "   'address': '0x7d7FA8911824b2BDeD6E6C7693843Ffa9f938d23',\n",
       "   'data': '0x000000000000000000000000000000000000000000000000000000000000008000000000000000000000000000000000000000000000000000000000000637e700000000000000000000000000000000000000000000000000000000000009e600000000000000000000000000000000000000000000000000000000000000a1000000000000000000000000000000000000000000000000000000000000000a323032312d30342d323600000000000000000000000000000000000000000000',\n",
       "   'topics': [HexBytes('0xc85bda2b06fad190ee52fa59cf5ca76af83ed14ff1a1ccd8b404541ca0b91885')],\n",
       "   'type': 'mined'})],\n",
       " 'status': 1,\n",
       " 'logsBloom': HexBytes('0x00000000400000000000000000000000000000000000000000000000000000000000000000000000000000000000000000000000000000000000000000000000000000000000000000000000000400000000000000000000004000000000000000000000000000000000000000000000000000000000000000000000000000000000000000000000000000000000000000000000000000000000000000000000000000000000000000000000000000000000000000000000000000000004000000000000000000000000000200000000000000000000000000000000000000000000000000000000000000000000000000000000000002000000000000000000')})"
      ]
     },
     "execution_count": 44,
     "metadata": {},
     "output_type": "execute_result"
    }
   ],
   "source": [
    "update_goal(recent_bus_day, share_price, ETH_price, num_ETH)"
   ]
  },
  {
   "cell_type": "code",
   "execution_count": 31,
   "metadata": {},
   "outputs": [],
   "source": [
    "def get_goal(date):\n",
    "    price_filter = GoalDeployer.events.goal.createFilter(\n",
    "        fromBlock=\"0x0\", argument_filters={\"date\": date}\n",
    "    )\n",
    "    return price_filter.get_all_entries()"
   ]
  },
  {
   "cell_type": "code",
   "execution_count": 32,
   "metadata": {},
   "outputs": [
    {
     "data": {
      "text/plain": [
       "[AttributeDict({'args': AttributeDict({'date': '2021-04-26',\n",
       "   'share_price': 407527,\n",
       "   'ETH_price': 2534,\n",
       "   'num_ETH_required': 161}),\n",
       "  'event': 'goal',\n",
       "  'logIndex': 0,\n",
       "  'transactionIndex': 0,\n",
       "  'transactionHash': HexBytes('0xfdbdd18c3d508a1b2d8a1f90dbf931ed03bb9dbe06fb64b81996dbb76893da23'),\n",
       "  'address': '0xC10390300B8E304B8b293a6A41061c3572A935fc',\n",
       "  'blockHash': HexBytes('0x546ff9af6837e12c450935311d9dcc5c0ebf8893c6f4fbe43014b8b5180f6a00'),\n",
       "  'blockNumber': 436})]"
      ]
     },
     "execution_count": 32,
     "metadata": {},
     "output_type": "execute_result"
    }
   ],
   "source": [
    "get_goal(\"2021-04-26\")"
   ]
  },
  {
   "cell_type": "markdown",
   "metadata": {},
   "source": [
    "### Initialize Solidity Contract: BHCoinSale"
   ]
  },
  {
   "cell_type": "code",
   "execution_count": 14,
   "metadata": {},
   "outputs": [],
   "source": [
    "def initContract():\n",
    "    with open(Path(\"BHCoinSale.json\")) as json_file:\n",
    "        abi_2 = json.load(json_file)\n",
    "    return w3.eth.contract(address=\"0x688bE037cd639254C082Ca1e1bB88F9817174183\", abi=abi_2) "
   ]
  },
  {
   "cell_type": "code",
   "execution_count": 15,
   "metadata": {},
   "outputs": [],
   "source": [
    "BHCoinSale = initContract()"
   ]
  },
  {
   "cell_type": "markdown",
   "metadata": {},
   "source": [
    "### Get Updated Sale Status from Solidity Contract: GoalDeployer"
   ]
  },
  {
   "cell_type": "code",
   "execution_count": 31,
   "metadata": {},
   "outputs": [
    {
     "data": {
      "text/plain": [
       "False"
      ]
     },
     "execution_count": 31,
     "metadata": {},
     "output_type": "execute_result"
    }
   ],
   "source": [
    "get_finalized_status = BHCoinSale.functions.finalized().call()\n",
    "get_finalized_status"
   ]
  },
  {
   "cell_type": "code",
   "execution_count": 34,
   "metadata": {},
   "outputs": [
    {
     "data": {
      "text/plain": [
       "0"
      ]
     },
     "execution_count": 34,
     "metadata": {},
     "output_type": "execute_result"
    }
   ],
   "source": [
    "weiRasied_status = BHCoinSale.functions.weiRaised().call()\n",
    "weiRasied_status"
   ]
  },
  {
   "cell_type": "markdown",
   "metadata": {},
   "source": [
    "### API to Broker"
   ]
  },
  {
   "cell_type": "markdown",
   "metadata": {},
   "source": [
    "1. Firstly check the Crowd Sale Status,\n",
    "2. If the Crowd Sale is **Finalized**, then check the `amount` of **weiRasied**.\n",
    "3. Next, use the proceeds from the Crowd Sale to place trade with the broker."
   ]
  },
  {
   "cell_type": "code",
   "execution_count": null,
   "metadata": {},
   "outputs": [],
   "source": [
    "import alpaca_trade_api as tradeapi\n",
    "import os\n",
    "import time\n"
   ]
  },
  {
   "cell_type": "code",
   "execution_count": null,
   "metadata": {},
   "outputs": [],
   "source": [
    "\n",
    "ALPACA_API_KEY = os.getenv(\"ALPACA_API_KEY\")\n",
    "ALPACA_SECRET_KEY = os.getenv(\"ALPACA_SECRET_KEY\")\n",
    " \n",
    "#API endpoint URL\n",
    "url = \"https://paper-api.alpaca.markets\"\n",
    "api = tradeapi.REST(ALPACA_API_KEY, ALPACA_SECRET_KEY, url, api_version='v2')\n",
    "\n",
    "\n",
    "    \n",
    "if weiRasied_status == 1: \n",
    " \n",
    "    #API endpoint URL\n",
    "    #Init our account var\n",
    "    account = api.get_account()\n",
    "\n",
    "    #Should print 'ACTIVE'\n",
    "    print(account.status)\n",
    "    order = api.submit_order(symbol=\"BRK.A\",\n",
    "                             qty=\"1\",\n",
    "                             side=\"buy\",\n",
    "                             type=\"limit\",\n",
    "                             limit_price=\"180.15\",\n",
    "                             time_in_force=\"day\")\n",
    "\n",
    "    \n",
    "else: \n",
    "    time.sleep(3600)\n",
    "    \n",
    "    "
   ]
  },
  {
   "cell_type": "markdown",
   "metadata": {},
   "source": [
    "### Testing: At the End of the Lock Period, Push NEW Price Data for User to Redeem:"
   ]
  },
  {
   "cell_type": "code",
   "execution_count": null,
   "metadata": {},
   "outputs": [],
   "source": [
    "# Assumed price data for testing purpose\n",
    "end_BRK_price = 500000\n",
    "end_ETH_price = 2000\n",
    "end_num_ETH = math.ceil(end_BRK_price/end_ETH_price)\n",
    "print(end_num_ETH)"
   ]
  },
  {
   "cell_type": "code",
   "execution_count": null,
   "metadata": {},
   "outputs": [],
   "source": [
    "update_goal('2022/5/1', end_BRK_price, end_ETH_price, end_num_ETH)"
   ]
  },
  {
   "cell_type": "code",
   "execution_count": null,
   "metadata": {},
   "outputs": [],
   "source": []
  }
 ],
 "metadata": {
  "kernelspec": {
   "display_name": "Python 3",
   "language": "python",
   "name": "python3"
  },
  "language_info": {
   "codemirror_mode": {
    "name": "ipython",
    "version": 3
   },
   "file_extension": ".py",
   "mimetype": "text/x-python",
   "name": "python",
   "nbconvert_exporter": "python",
   "pygments_lexer": "ipython3",
   "version": "3.8.5"
  }
 },
 "nbformat": 4,
 "nbformat_minor": 4
}

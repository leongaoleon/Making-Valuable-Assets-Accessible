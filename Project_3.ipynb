{
 "cells": [
  {
   "cell_type": "markdown",
   "metadata": {},
   "source": [
    "### Initial Imports:"
   ]
  },
  {
   "cell_type": "code",
   "execution_count": 1,
   "metadata": {},
   "outputs": [],
   "source": [
    "from pathlib import Path\n",
    "import numpy as np\n",
    "import pandas as pd\n",
    "pd.set_option(\"display.max_colwidth\", 300)\n",
    "\n",
    "import requests\n",
    "from dotenv import load_dotenv\n",
    "from datetime import datetime,timedelta\n",
    "import math\n",
    "\n",
    "import json\n",
    "from web3.auto import w3"
   ]
  },
  {
   "cell_type": "markdown",
   "metadata": {},
   "source": [
    "### Additional Installation:"
   ]
  },
  {
   "cell_type": "code",
   "execution_count": 2,
   "metadata": {},
   "outputs": [],
   "source": [
    "# !pip install yfinance\n",
    "import yfinance as yf"
   ]
  },
  {
   "cell_type": "markdown",
   "metadata": {},
   "source": [
    "### Download Stock Data from Yahoo Finance:"
   ]
  },
  {
   "cell_type": "code",
   "execution_count": 3,
   "metadata": {},
   "outputs": [
    {
     "name": "stdout",
     "output_type": "stream",
     "text": [
      "start date 2021-04-23\n",
      "end date 2021-04-26\n",
      "last business day 2021-04-23\n"
     ]
    }
   ],
   "source": [
    "# Get Recent Business Date:\n",
    "from datetime import datetime,timedelta\n",
    "from pandas.tseries.offsets import BDay\n",
    "recent_bus_day = (datetime.today()-BDay(1)).strftime(\"%Y-%m-%d\")\n",
    "\n",
    "# Auto-Update Time Interval\n",
    "start=(datetime.today()-timedelta(days=3)).strftime(\"%Y-%m-%d\")\n",
    "end=datetime.today().strftime(\"%Y-%m-%d\")\n",
    "print(f\"start date {start}\")\n",
    "print(f\"end date {end}\")\n",
    "print(f\"last business day {recent_bus_day}\")"
   ]
  },
  {
   "cell_type": "code",
   "execution_count": 35,
   "metadata": {},
   "outputs": [
    {
     "name": "stdout",
     "output_type": "stream",
     "text": [
      "[*********************100%***********************]  1 of 1 completed\n"
     ]
    }
   ],
   "source": [
    "# Dowload BRK Data from Yahoo\n",
    "ticker = \"BRK-A\"\n",
    "brk_yfinance = yf.download(ticker, start, end)\n",
    "# Store in Dataframe\n",
    "BRK=brk_yfinance[\"Adj Close\"].to_frame(name=\"BRK\")"
   ]
  },
  {
   "cell_type": "code",
   "execution_count": 5,
   "metadata": {},
   "outputs": [
    {
     "name": "stdout",
     "output_type": "stream",
     "text": [
      "[*********************100%***********************]  1 of 1 completed\n"
     ]
    }
   ],
   "source": [
    "# Dowload ETH Data from Yahoo\n",
    "ticker = \"ETH-USD\"\n",
    "eth_yfinance = yf.download(ticker, start, end)\n",
    "# Store in Dataframe\n",
    "ETH=eth_yfinance[\"Adj Close\"].to_frame(name=\"ETH\")"
   ]
  },
  {
   "cell_type": "markdown",
   "metadata": {},
   "source": [
    "### Calculate BRK to ETH Ratio for the Last Business Day:"
   ]
  },
  {
   "cell_type": "code",
   "execution_count": 6,
   "metadata": {},
   "outputs": [
    {
     "data": {
      "text/html": [
       "<div>\n",
       "<style scoped>\n",
       "    .dataframe tbody tr th:only-of-type {\n",
       "        vertical-align: middle;\n",
       "    }\n",
       "\n",
       "    .dataframe tbody tr th {\n",
       "        vertical-align: top;\n",
       "    }\n",
       "\n",
       "    .dataframe thead th {\n",
       "        text-align: right;\n",
       "    }\n",
       "</style>\n",
       "<table border=\"1\" class=\"dataframe\">\n",
       "  <thead>\n",
       "    <tr style=\"text-align: right;\">\n",
       "      <th></th>\n",
       "      <th>Date</th>\n",
       "      <th>BRK</th>\n",
       "      <th>ETH</th>\n",
       "      <th>ratio</th>\n",
       "    </tr>\n",
       "  </thead>\n",
       "  <tbody>\n",
       "    <tr>\n",
       "      <th>1</th>\n",
       "      <td>2021-04-23</td>\n",
       "      <td>408840.0</td>\n",
       "      <td>2363.586182</td>\n",
       "      <td>172.974442</td>\n",
       "    </tr>\n",
       "  </tbody>\n",
       "</table>\n",
       "</div>"
      ],
      "text/plain": [
       "        Date       BRK          ETH       ratio\n",
       "1 2021-04-23  408840.0  2363.586182  172.974442"
      ]
     },
     "execution_count": 6,
     "metadata": {},
     "output_type": "execute_result"
    }
   ],
   "source": [
    "# Concat DataFrames\n",
    "stock_data=pd.concat([BRK,ETH],axis='columns',join=\"inner\").reset_index()\n",
    "# Calculate and Extract Recent Ratio (the recent business day)\n",
    "stock_data[\"ratio\"]=stock_data[\"BRK\"]/stock_data[\"ETH\"]\n",
    "ratio_df = stock_data.loc[stock_data[\"Date\"]==recent_bus_day]\n",
    "ratio_df"
   ]
  },
  {
   "cell_type": "code",
   "execution_count": 7,
   "metadata": {},
   "outputs": [
    {
     "name": "stdout",
     "output_type": "stream",
     "text": [
      "BRK price of last business date: 408840\n",
      "ETH price of last business date: 2363\n",
      "Required number of ETH: 173\n"
     ]
    }
   ],
   "source": [
    "# Store Recent BRK to ETH Ratio (the recent business day)\n",
    "# Always Round Up!!\n",
    "import math\n",
    "num_ETH = math.ceil(ratio_df[\"ratio\"])\n",
    "share_price = int(ratio_df['BRK'].to_numpy())\n",
    "ETH_price = int(ratio_df['ETH'].to_numpy())\n",
    "\n",
    "print(f\"BRK price of last business date: {share_price}\")\n",
    "print(f\"ETH price of last business date: {ETH_price}\")   \n",
    "print(f\"Required number of ETH: {num_ETH}\")"
   ]
  },
  {
   "cell_type": "markdown",
   "metadata": {},
   "source": [
    "### Initialize & Deploy Solidity Contract: GoalDeployer"
   ]
  },
  {
   "cell_type": "code",
   "execution_count": 8,
   "metadata": {},
   "outputs": [],
   "source": [
    "def initContract():\n",
    "    with open(Path(\"GoalDeployer.json\")) as json_file:\n",
    "        abi = json.load(json_file)\n",
    "    return w3.eth.contract(address=\"0x9b9a1a65D1bc7544F781e6B10C3749167CfAcB20\", abi=abi)        "
   ]
  },
  {
   "cell_type": "code",
   "execution_count": 9,
   "metadata": {},
   "outputs": [],
   "source": [
    "GoalDeployer = initContract()"
   ]
  },
  {
   "cell_type": "markdown",
   "metadata": {},
   "source": [
    "### Sending Updated Data to Solidity Contract: GoalDeployer"
   ]
  },
  {
   "cell_type": "code",
   "execution_count": 10,
   "metadata": {},
   "outputs": [],
   "source": [
    "def update_goal(date, share_price, ETH_price, ratio):\n",
    "    tx_hash = GoalDeployer.functions.Update(date, share_price, ETH_price, ratio).transact(\n",
    "        {\"from\": w3.eth.accounts[0]}\n",
    "    )\n",
    "    receipt = w3.eth.waitForTransactionReceipt(tx_hash)\n",
    "    print(f\"Event log is updated for {date}\")\n",
    "    return receipt"
   ]
  },
  {
   "cell_type": "code",
   "execution_count": 11,
   "metadata": {},
   "outputs": [
    {
     "name": "stdout",
     "output_type": "stream",
     "text": [
      "Event log is updated for 2021-04-23\n"
     ]
    },
    {
     "data": {
      "text/plain": [
       "AttributeDict({'transactionHash': HexBytes('0x8974708b8ef511dcc3800a8643d0fb52b746c340f08e1c9c5888075db8a368fa'),\n",
       " 'transactionIndex': 0,\n",
       " 'blockHash': HexBytes('0x5e11dc7f53a1509e496c52863084358f23186a437867f03bed21909dee85b870'),\n",
       " 'blockNumber': 249,\n",
       " 'from': '0xA850442918Cc83e9Db3654DC353717a802DF2b85',\n",
       " 'to': '0x9b9a1a65D1bc7544F781e6B10C3749167CfAcB20',\n",
       " 'gasUsed': 31619,\n",
       " 'cumulativeGasUsed': 31619,\n",
       " 'contractAddress': None,\n",
       " 'logs': [AttributeDict({'logIndex': 0,\n",
       "   'transactionIndex': 0,\n",
       "   'transactionHash': HexBytes('0x8974708b8ef511dcc3800a8643d0fb52b746c340f08e1c9c5888075db8a368fa'),\n",
       "   'blockHash': HexBytes('0x5e11dc7f53a1509e496c52863084358f23186a437867f03bed21909dee85b870'),\n",
       "   'blockNumber': 249,\n",
       "   'address': '0x9b9a1a65D1bc7544F781e6B10C3749167CfAcB20',\n",
       "   'data': '0x00000000000000000000000000000000000000000000000000000000000000800000000000000000000000000000000000000000000000000000000000063d08000000000000000000000000000000000000000000000000000000000000093b00000000000000000000000000000000000000000000000000000000000000ad000000000000000000000000000000000000000000000000000000000000000a323032312d30342d323300000000000000000000000000000000000000000000',\n",
       "   'topics': [HexBytes('0xc85bda2b06fad190ee52fa59cf5ca76af83ed14ff1a1ccd8b404541ca0b91885')],\n",
       "   'type': 'mined'})],\n",
       " 'status': 1,\n",
       " 'logsBloom': HexBytes('0x00000000000000000000000000000000000000000000000000000000000000000000000000000200000000000000000000000000008000000000000000000000000000000000000000000000000400000000000000000000004000000000000000000000000000000000000000000000000000000000000000000000000000000000000000000000000000000000000000000000000000000000000000000000000000000000000000000000000000000000000000000000000000000004000000000000000000000400000000000000000000000000000000000000000000000000000000000000000000000000000000000000000000000000000000000000')})"
      ]
     },
     "execution_count": 11,
     "metadata": {},
     "output_type": "execute_result"
    }
   ],
   "source": [
    "update_goal(recent_bus_day, share_price, ETH_price, num_ETH)"
   ]
  },
  {
   "cell_type": "code",
   "execution_count": 12,
   "metadata": {},
   "outputs": [],
   "source": [
    "def get_goal(date):\n",
    "    price_filter = GoalDeployer.events.goal.createFilter(\n",
    "        fromBlock=\"0x0\", argument_filters={\"date\": date}\n",
    "    )\n",
    "    return price_filter.get_all_entries()"
   ]
  },
  {
   "cell_type": "code",
   "execution_count": 14,
   "metadata": {},
   "outputs": [
    {
     "data": {
      "text/plain": [
       "[AttributeDict({'args': AttributeDict({'date': '2021-04-23',\n",
       "   'share_price': 408840,\n",
       "   'ETH_price': 2211,\n",
       "   'num_ETH_required': 185}),\n",
       "  'event': 'goal',\n",
       "  'logIndex': 0,\n",
       "  'transactionIndex': 0,\n",
       "  'transactionHash': HexBytes('0x822a6f23815d98ee45a09a3bd3b96beb7f119eb457125bf02186b8504647e891'),\n",
       "  'address': '0x9b9a1a65D1bc7544F781e6B10C3749167CfAcB20',\n",
       "  'blockHash': HexBytes('0xb75f0574e415a9f01d7de6279e657d3a0b45be3d4a5a4ec2849f817ee6338181'),\n",
       "  'blockNumber': 214}),\n",
       " AttributeDict({'args': AttributeDict({'date': '2021-04-23',\n",
       "   'share_price': 408840,\n",
       "   'ETH_price': 2211,\n",
       "   'num_ETH_required': 11111}),\n",
       "  'event': 'goal',\n",
       "  'logIndex': 0,\n",
       "  'transactionIndex': 0,\n",
       "  'transactionHash': HexBytes('0x7348f89ef1a2de9737b274bbc2e71a850be082f976182144a61f32535388f52c'),\n",
       "  'address': '0x9b9a1a65D1bc7544F781e6B10C3749167CfAcB20',\n",
       "  'blockHash': HexBytes('0x61bdd006ef2b686e6e2fd364191851e9cdceba933e229ea8d368a80444bbb596'),\n",
       "  'blockNumber': 237}),\n",
       " AttributeDict({'args': AttributeDict({'date': '2021-04-23',\n",
       "   'share_price': 408840,\n",
       "   'ETH_price': 2211,\n",
       "   'num_ETH_required': 185}),\n",
       "  'event': 'goal',\n",
       "  'logIndex': 0,\n",
       "  'transactionIndex': 0,\n",
       "  'transactionHash': HexBytes('0x4a72cf045894d19edc5644be036bf41f8ae1c7ab904b6a2565de14740ed805f0'),\n",
       "  'address': '0x9b9a1a65D1bc7544F781e6B10C3749167CfAcB20',\n",
       "  'blockHash': HexBytes('0xce378986ff32eaf9580cc981a9012f0ecf7de1b8cc7d9f5fdc29ee55857d495a'),\n",
       "  'blockNumber': 244}),\n",
       " AttributeDict({'args': AttributeDict({'date': '2021-04-23',\n",
       "   'share_price': 408840,\n",
       "   'ETH_price': 2363,\n",
       "   'num_ETH_required': 173}),\n",
       "  'event': 'goal',\n",
       "  'logIndex': 0,\n",
       "  'transactionIndex': 0,\n",
       "  'transactionHash': HexBytes('0x1d9f9c82c90212e34f679473239ae1f52e515e74a3850905b580ebdf14a7094b'),\n",
       "  'address': '0x9b9a1a65D1bc7544F781e6B10C3749167CfAcB20',\n",
       "  'blockHash': HexBytes('0xe7455ec40068dc222f9293b07591911362dae6d544f4673b1f231431e97107b0'),\n",
       "  'blockNumber': 248}),\n",
       " AttributeDict({'args': AttributeDict({'date': '2021-04-23',\n",
       "   'share_price': 408840,\n",
       "   'ETH_price': 2363,\n",
       "   'num_ETH_required': 173}),\n",
       "  'event': 'goal',\n",
       "  'logIndex': 0,\n",
       "  'transactionIndex': 0,\n",
       "  'transactionHash': HexBytes('0x8974708b8ef511dcc3800a8643d0fb52b746c340f08e1c9c5888075db8a368fa'),\n",
       "  'address': '0x9b9a1a65D1bc7544F781e6B10C3749167CfAcB20',\n",
       "  'blockHash': HexBytes('0x5e11dc7f53a1509e496c52863084358f23186a437867f03bed21909dee85b870'),\n",
       "  'blockNumber': 249})]"
      ]
     },
     "execution_count": 14,
     "metadata": {},
     "output_type": "execute_result"
    }
   ],
   "source": [
    "get_goal(\"2021-04-23\")"
   ]
  },
  {
   "cell_type": "markdown",
   "metadata": {},
   "source": [
    "### Initialize Solidity Contract: BHCoinSale"
   ]
  },
  {
   "cell_type": "code",
   "execution_count": 17,
   "metadata": {},
   "outputs": [],
   "source": [
    "def initContract():\n",
    "    with open(Path(\"BHCoinSale.json\")) as json_file:\n",
    "        abi_2 = json.load(json_file)\n",
    "    return w3.eth.contract(address=\"0x688bE037cd639254C082Ca1e1bB88F9817174183\", abi=abi_2) "
   ]
  },
  {
   "cell_type": "code",
   "execution_count": 18,
   "metadata": {},
   "outputs": [],
   "source": [
    "BHCoinSale = initContract()"
   ]
  },
  {
   "cell_type": "code",
   "execution_count": 33,
   "metadata": {},
   "outputs": [
    {
     "data": {
      "text/plain": [
       "185000000000000000000"
      ]
     },
     "execution_count": 33,
     "metadata": {},
     "output_type": "execute_result"
    }
   ],
   "source": [
    "get_cap_status = BHCoinSale.functions.cap().call()\n",
    "get_cap_status"
   ]
  },
  {
   "cell_type": "code",
   "execution_count": 29,
   "metadata": {},
   "outputs": [
    {
     "data": {
      "text/plain": [
       "False"
      ]
     },
     "execution_count": 29,
     "metadata": {},
     "output_type": "execute_result"
    }
   ],
   "source": [
    "get_capReached_status = BHCoinSale.functions.capReached().call()\n",
    "get_capReached_status"
   ]
  },
  {
   "cell_type": "code",
   "execution_count": 32,
   "metadata": {},
   "outputs": [
    {
     "data": {
      "text/plain": [
       "False"
      ]
     },
     "execution_count": 32,
     "metadata": {},
     "output_type": "execute_result"
    }
   ],
   "source": [
    "get_goalReached_status = BHCoinSale.functions.goalReached().call()\n",
    "get_goalReached_status"
   ]
  },
  {
   "cell_type": "code",
   "execution_count": 30,
   "metadata": {},
   "outputs": [
    {
     "data": {
      "text/plain": [
       "False"
      ]
     },
     "execution_count": 30,
     "metadata": {},
     "output_type": "execute_result"
    }
   ],
   "source": [
    "get_isOpen_status = BHCoinSale.functions.isOpen().call()\n",
    "get_isOpen_status"
   ]
  },
  {
   "cell_type": "code",
   "execution_count": 31,
   "metadata": {},
   "outputs": [
    {
     "data": {
      "text/plain": [
       "True"
      ]
     },
     "execution_count": 31,
     "metadata": {},
     "output_type": "execute_result"
    }
   ],
   "source": [
    "get_hasClosed_status = BHCoinSale.functions.hasClosed().call()\n",
    "get_hasClosed_status"
   ]
  },
  {
   "cell_type": "markdown",
   "metadata": {},
   "source": [
    "### Get Updated Sale Status from Solidity Contract: GoalDeployer"
   ]
  },
  {
   "cell_type": "code",
   "execution_count": 34,
   "metadata": {},
   "outputs": [
    {
     "data": {
      "text/plain": [
       "False"
      ]
     },
     "execution_count": 34,
     "metadata": {},
     "output_type": "execute_result"
    }
   ],
   "source": [
    "get_finalized_status = BHCoinSale.functions.finalized().call()\n",
    "get_finalized_status"
   ]
  },
  {
   "cell_type": "code",
   "execution_count": null,
   "metadata": {},
   "outputs": [],
   "source": []
  }
 ],
 "metadata": {
  "kernelspec": {
   "display_name": "Python [conda env:monenv] *",
   "language": "python",
   "name": "conda-env-monenv-py"
  },
  "language_info": {
   "codemirror_mode": {
    "name": "ipython",
    "version": 3
   },
   "file_extension": ".py",
   "mimetype": "text/x-python",
   "name": "python",
   "nbconvert_exporter": "python",
   "pygments_lexer": "ipython3",
   "version": "3.7.9"
  }
 },
 "nbformat": 4,
 "nbformat_minor": 4
}
